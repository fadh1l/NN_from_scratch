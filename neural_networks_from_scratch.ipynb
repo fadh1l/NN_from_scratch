{
  "nbformat": 4,
  "nbformat_minor": 0,
  "metadata": {
    "colab": {
      "provenance": []
    },
    "kernelspec": {
      "name": "python3",
      "display_name": "Python 3"
    },
    "language_info": {
      "name": "python"
    }
  },
  "cells": [
    {
      "cell_type": "code",
      "execution_count": null,
      "metadata": {
        "id": "1xCLddDqpZog"
      },
      "outputs": [],
      "source": [
        "import math\n",
        "import numpy as np\n",
        "import matplotlib.pyplot as plt\n",
        "%matplotlib inline"
      ]
    },
    {
      "cell_type": "code",
      "source": [
        "class Value:\n",
        "  #constructor\n",
        "  def __init__(self, data, _children=(),_op='', label=''):\n",
        "    self.data = data\n",
        "    self._prev = set(_children)\n",
        "    self._op = _op\n",
        "    self.label = label\n",
        "    self.grad = 0.0\n",
        "    self._backward = lambda: None\n",
        "\n",
        "  #representation\n",
        "  def __repr__(self):\n",
        "    return f\"Value(data={self.data})\"\n",
        "\n",
        "  #addition\n",
        "  def __add__(self, other):\n",
        "    other = other if isinstance(other, Value) else Value(other)\n",
        "    out = Value(self.data + other.data, (self,other), '+')\n",
        "\n",
        "    #backprop in addition\n",
        "    def _backward():\n",
        "      self.grad += 1.0*out.grad\n",
        "      other.grad += 1.0*out.grad\n",
        "    out._backward = _backward\n",
        "    return out\n",
        "\n",
        "  #multiplication\n",
        "  def __mul__(self, other):\n",
        "    other = other if isinstance(other, Value) else Value(other)\n",
        "    out = Value(self.data * other.data, (self, other), '*')\n",
        "    #backprop in multi\n",
        "    def _backward():\n",
        "      self.grad += other.data*out.grad\n",
        "      other.grad += self.data*out.grad\n",
        "    out._backward = _backward\n",
        "    return out\n",
        "\n",
        "\n",
        "  #subtraction\n",
        "  def __sub__(self, other):\n",
        "    return self + (-other)\n",
        "\n",
        "  def __rmul__(self,other):\n",
        "    return self * other\n",
        "\n",
        "  def __rsub__(self,other):\n",
        "    return other + (-self)\n",
        "\n",
        "  def __radd__(self, other):\n",
        "    return self + other\n",
        "\n",
        "  def __neg__(self):\n",
        "    return self*(-1)\n",
        "\n",
        "\n",
        "  #tanh\n",
        "  def tanh(self):\n",
        "    x = self.data\n",
        "    t = (math.exp(2*x)-1)/(math.exp(2*x)+1)\n",
        "    out = Value(t, (self, ), 'tanh')\n",
        "    #backprop in tanh\n",
        "    def _backward():\n",
        "      self.grad += (1-t**2)*out.grad\n",
        "    out._backward = _backward\n",
        "    return out\n",
        "\n",
        "  #power\n",
        "  def __pow__(self,other):\n",
        "    assert isinstance(other, (int, float)), \"only supporting int/float for now\"\n",
        "    out = Value(self.data**other, (self, ), f'**{other}')\n",
        "    #backprop in pow\n",
        "    def _backward():\n",
        "      self.grad += other* (self.data**(other-1)) * out.grad\n",
        "    out._backward = _backward\n",
        "    return out\n",
        "\n",
        "  #exp\n",
        "  def exp(self):\n",
        "    x = self.data\n",
        "    out = Value(math.exp(x), (self, ), 'exp')\n",
        "    #backprop in exp\n",
        "    def _backward():\n",
        "      self.grad += out.data * out.grad\n",
        "    out._backward = _backward\n",
        "    return out\n",
        "\n",
        "  def __truediv__(self, other):\n",
        "    return self * other**-1\n",
        "\n",
        "  #using topological sort to get the order in which to apply backprop in and then using the _backward in each node to calc grad\n",
        "  def backward(self):\n",
        "    topo = []\n",
        "    visited = set()\n",
        "    def build_topo(v):\n",
        "      if v not in visited:\n",
        "        visited.add(v)\n",
        "        for child in v._prev:\n",
        "          build_topo(child)\n",
        "        topo.append(v)\n",
        "    build_topo(self)\n",
        "    #setting out.grad to 1 to avoid 0 multi in _backward fn\n",
        "    self .grad = 1.0\n",
        "    for node in reversed(topo):\n",
        "      node._backward()\n",
        "\n",
        "\n"
      ],
      "metadata": {
        "id": "yOsEV5ZXpkxl"
      },
      "execution_count": null,
      "outputs": []
    },
    {
      "cell_type": "code",
      "source": [
        "a = Value(2.0)\n",
        "b = Value(-3.0)\n",
        "c = Value(10.0)\n",
        "d = a.__mul__(b).__add__(c)\n",
        "d._prev\n",
        "d._op"
      ],
      "metadata": {
        "id": "3Rlf9R0HPSr3",
        "colab": {
          "base_uri": "https://localhost:8080/",
          "height": 35
        },
        "outputId": "c7fae0ac-75d8-4791-d126-12d3987c9646"
      },
      "execution_count": null,
      "outputs": [
        {
          "output_type": "execute_result",
          "data": {
            "text/plain": [
              "'+'"
            ],
            "application/vnd.google.colaboratory.intrinsic+json": {
              "type": "string"
            }
          },
          "metadata": {},
          "execution_count": 3
        }
      ]
    },
    {
      "cell_type": "code",
      "source": [
        "#inputs\n",
        "x1 = Value(2.0, label='x1')\n",
        "x2 = Value(0.0, label='x2')\n",
        "#weights\n",
        "w1 = Value(-3.0, label='w2')\n",
        "w2 = Value(1.0, label='w1')\n",
        "#bias\n",
        "b = Value(5.0, label='b')\n",
        "#cellbody-content\n",
        "X1 = x1*w1; X1.label = 'x1*w1'\n",
        "X2 = x2*w2; X2.label = 'x2*w2'\n",
        "X1X2 = X1 + X2; X1X2.label = 'x1w1 + x2w2'\n",
        "n = X1X2 +b; n.label = 'n'\n",
        "out = n.tanh(); out.label = 'out'\n",
        "out.backward()"
      ],
      "metadata": {
        "id": "jCr7vJdhSY4K"
      },
      "execution_count": null,
      "outputs": []
    },
    {
      "cell_type": "code",
      "source": [
        "#results:\n",
        "print(x1.grad, w1.grad, x2.grad, w2.grad)\n"
      ],
      "metadata": {
        "colab": {
          "base_uri": "https://localhost:8080/"
        },
        "id": "k_F3fsZfi9Sn",
        "outputId": "60bd42f3-8b2a-4dad-ba2e-a2572cfa81cd"
      },
      "execution_count": null,
      "outputs": [
        {
          "output_type": "stream",
          "name": "stdout",
          "text": [
            "-1.2599230248420783 0.8399486832280523 0.41997434161402614 0.0\n"
          ]
        }
      ]
    },
    {
      "cell_type": "code",
      "source": [
        "import torch\n",
        "#double is used to ensure that dtype is float64 instead of pytorch default float32\n",
        "x1 = torch.Tensor([2.0]).double()\n",
        "x2 = torch.Tensor([0.0]).double()\n",
        "w1 = torch.Tensor([-3.0]).double()\n",
        "w2 = torch.Tensor([1.0]).double()\n",
        "b = torch.Tensor([5.0]).double()\n",
        "#in normal cases gradient for inputs aren't calculated for efficiency so we have to enforce it\n",
        "x1.requires_grad = True\n",
        "x2.requires_grad = True\n",
        "w1.requires_grad = True\n",
        "w2.requires_grad = True\n",
        "b.requires_grad = True\n",
        "n = x1*w1 + x2*w2 + b\n",
        "out = torch.tanh(n)\n",
        "out.backward()"
      ],
      "metadata": {
        "id": "1hxeAndKj6Zh"
      },
      "execution_count": null,
      "outputs": []
    },
    {
      "cell_type": "code",
      "source": [
        "#results in pytorch\n",
        "print(x1.grad.item(), w1.grad.item(), x2.grad.item(), w2.grad.item(),out)\n"
      ],
      "metadata": {
        "colab": {
          "base_uri": "https://localhost:8080/"
        },
        "id": "5-0g6zkJlyli",
        "outputId": "b3e0eb3a-28ad-468c-8145-dd4d6a1fb8b8"
      },
      "execution_count": null,
      "outputs": [
        {
          "output_type": "stream",
          "name": "stdout",
          "text": [
            "-1.2599230248420783 0.8399486832280523 0.41997434161402614 0.0 tensor([-0.7616], dtype=torch.float64, grad_fn=<TanhBackward0>)\n"
          ]
        }
      ]
    },
    {
      "cell_type": "code",
      "source": [
        "import random\n",
        "class Neuron:\n",
        "  def __init__(self,nin):\n",
        "    #setting random weights an bias initially\n",
        "    self.w = [Value(random.uniform(-1,1)) for _ in range(nin)]\n",
        "    self.b = Value(random.uniform(-1,1))\n",
        "\n",
        "  def __call__(self,x):\n",
        "    #summing up wx+b and using activation\n",
        "    #sum function has an additional parameter start\n",
        "    act = sum((wi*xi for wi,xi in zip(self.w,x)), self.b)\n",
        "    out = act.tanh()\n",
        "    return out\n",
        "\n",
        "  def parameters(self):\n",
        "    return self.w + [self.b]\n",
        "\n",
        "#a layer is a list of neurons\n",
        "class Layer:\n",
        "  def __init__(self,nin, nout):\n",
        "    self.neurons = [Neuron(nin) for _ in range(nout)]\n",
        "  def __call__(self,x):\n",
        "    outs = [n(x) for n in self.neurons]\n",
        "    return outs[0] if len(outs) == 1 else outs\n",
        "\n",
        "  def parameters(self):\n",
        "    params = []\n",
        "    for n in self.neurons:\n",
        "      ps = n.parameters()\n",
        "      params.extend(ps)\n",
        "    return params\n",
        "\n",
        "#defining a multilayer perceptron\n",
        "class MLP:\n",
        "  def __init__(self, nin , nouts):\n",
        "    sz = [nin] + nouts\n",
        "    self.layers = [Layer(sz[i], sz[i+1]) for i in range(len(nouts))]\n",
        "\n",
        "  def __call__(self,x):\n",
        "    for layer in self.layers:\n",
        "      x = layer(x)\n",
        "    return x\n",
        "\n",
        "  def parameters(self):\n",
        "    return [p for layer in self.layers for p in layer.parameters()]\n"
      ],
      "metadata": {
        "id": "No-lzoidl8An"
      },
      "execution_count": null,
      "outputs": []
    },
    {
      "cell_type": "code",
      "source": [
        "x = [2.0, 3.0, -1.0]\n",
        "n = MLP(3,[4,4,1])\n",
        "n(x)"
      ],
      "metadata": {
        "id": "Ue0VF6tn2L3y",
        "colab": {
          "base_uri": "https://localhost:8080/"
        },
        "outputId": "12d5e3ec-5b8d-42a3-ac16-d681b96d2786"
      },
      "execution_count": null,
      "outputs": [
        {
          "output_type": "execute_result",
          "data": {
            "text/plain": [
              "Value(data=-0.887858337045877)"
            ]
          },
          "metadata": {},
          "execution_count": 9
        }
      ]
    },
    {
      "cell_type": "code",
      "source": [
        "#testing for values\n",
        "xs = [\n",
        "    [2.0, 3.0, -1.0],\n",
        "    [3.0, -1.0, 0.5],\n",
        "    [0.5, 1.0, 1.0],\n",
        "    [1.0, 1.0, -1.0],\n",
        "]\n",
        "\n",
        "ys = [1.0, -1.0, -1.0, 1.0]"
      ],
      "metadata": {
        "id": "F0wT6fdV5dtN"
      },
      "execution_count": null,
      "outputs": []
    },
    {
      "cell_type": "code",
      "source": [
        "for i in range(20):\n",
        "  #forward pass\n",
        "  ypred = [n(x) for x in xs]\n",
        "  #calculating loss\n",
        "  loss = sum((yout-ygt)**2 for ygt, yout in zip(ys,ypred))\n",
        "  #backprop\n",
        "  #resetting the gradients before each iteration\n",
        "  for p in n.parameters():\n",
        "    p.grad = 0.0\n",
        "  loss.backward()\n",
        "  #gradient descent update\n",
        "  #updating the parameters using grad of loss function\n",
        "  #alpha is the learning rate\n",
        "  alpha = 0.05\n",
        "  for p in n.parameters():\n",
        "    p.data += -alpha*p.grad\n",
        "  print(i,loss.data)"
      ],
      "metadata": {
        "colab": {
          "base_uri": "https://localhost:8080/"
        },
        "id": "utb9uG0YLXBy",
        "outputId": "8ac823f9-6a20-4746-f369-7b74345d68b4"
      },
      "execution_count": null,
      "outputs": [
        {
          "output_type": "stream",
          "name": "stdout",
          "text": [
            "0 0.005964289499783313\n",
            "1 0.00586482969638784\n",
            "2 0.005768801058019966\n",
            "3 0.005676022458715054\n",
            "4 0.005586325593568633\n",
            "5 0.005499553848669623\n",
            "6 0.005415561289428992\n",
            "7 0.005334211753015049\n",
            "8 0.0052553780325484195\n",
            "9 0.0051789411423609644\n",
            "10 0.005104789655027485\n",
            "11 0.005032819102081133\n",
            "12 0.004962931431350638\n",
            "13 0.004895034514743188\n",
            "14 0.0048290417010549746\n",
            "15 0.004764871409050915\n",
            "16 0.004702446756621412\n",
            "17 0.004641695222318143\n",
            "18 0.004582548335998985\n",
            "19 0.004524941395685565\n"
          ]
        }
      ]
    },
    {
      "cell_type": "code",
      "source": [
        "ypred"
      ],
      "metadata": {
        "colab": {
          "base_uri": "https://localhost:8080/"
        },
        "id": "D41cAP19-xUY",
        "outputId": "cccdf89c-f5a7-473e-b030-1a98d4a25c52"
      },
      "execution_count": null,
      "outputs": [
        {
          "output_type": "execute_result",
          "data": {
            "text/plain": [
              "[Value(data=0.969770328718326),\n",
              " Value(data=-0.971719434547973),\n",
              " Value(data=-0.96898590154409),\n",
              " Value(data=0.9569948411865711)]"
            ]
          },
          "metadata": {},
          "execution_count": 18
        }
      ]
    },
    {
      "cell_type": "markdown",
      "source": [
        "### Thank you Andrej Karpathy for this awesome walkthrough on how to make neural networks from scratch!\n",
        "\n",
        "https://www.youtube.com/pop-up-player/VMj-3S1tku0?autoplay=1&start=5703\n"
      ],
      "metadata": {
        "id": "Mz11MxhqCZoI"
      }
    }
  ]
}